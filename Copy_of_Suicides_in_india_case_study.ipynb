{
  "nbformat": 4,
  "nbformat_minor": 0,
  "metadata": {
    "colab": {
      "name": "Copy of Suicides in india case study",
      "provenance": [],
      "toc_visible": true,
      "authorship_tag": "ABX9TyNts4wIcRcjLC7KhwkIr3fT",
      "include_colab_link": true
    },
    "kernelspec": {
      "name": "python3",
      "display_name": "Python 3"
    }
  },
  "cells": [
    {
      "cell_type": "markdown",
      "metadata": {
        "id": "view-in-github",
        "colab_type": "text"
      },
      "source": [
        "<a href=\"https://colab.research.google.com/github/V6388/Suicides_in_india_case_study/blob/main/Copy_of_Suicides_in_india_case_study.ipynb\" target=\"_parent\"><img src=\"https://colab.research.google.com/assets/colab-badge.svg\" alt=\"Open In Colab\"/></a>"
      ]
    },
    {
      "cell_type": "code",
      "metadata": {
        "id": "Bwd39hjdny7K"
      },
      "source": [
        "import numpy as np\r\n",
        "import pandas as pd\r\n",
        "import matplotlib.pyplot as plt\r\n"
      ],
      "execution_count": null,
      "outputs": []
    },
    {
      "cell_type": "code",
      "metadata": {
        "id": "I7PyQNIWpjB2"
      },
      "source": [
        "data=pd.read_csv('Suicidesindia2001-2012.csv')"
      ],
      "execution_count": null,
      "outputs": []
    },
    {
      "cell_type": "code",
      "metadata": {
        "colab": {
          "base_uri": "https://localhost:8080/",
          "height": 687
        },
        "id": "HxP_45kxp84i",
        "outputId": "09a3c3a8-872f-481d-b53c-ea560dc7fc2c"
      },
      "source": [
        "data"
      ],
      "execution_count": null,
      "outputs": [
        {
          "output_type": "execute_result",
          "data": {
            "text/html": [
              "<div>\n",
              "<style scoped>\n",
              "    .dataframe tbody tr th:only-of-type {\n",
              "        vertical-align: middle;\n",
              "    }\n",
              "\n",
              "    .dataframe tbody tr th {\n",
              "        vertical-align: top;\n",
              "    }\n",
              "\n",
              "    .dataframe thead th {\n",
              "        text-align: right;\n",
              "    }\n",
              "</style>\n",
              "<table border=\"1\" class=\"dataframe\">\n",
              "  <thead>\n",
              "    <tr style=\"text-align: right;\">\n",
              "      <th></th>\n",
              "      <th>State</th>\n",
              "      <th>Year</th>\n",
              "      <th>Type_code</th>\n",
              "      <th>Type</th>\n",
              "      <th>Gender</th>\n",
              "      <th>Age_group</th>\n",
              "      <th>Total</th>\n",
              "    </tr>\n",
              "  </thead>\n",
              "  <tbody>\n",
              "    <tr>\n",
              "      <th>0</th>\n",
              "      <td>A &amp; N Islands</td>\n",
              "      <td>2001</td>\n",
              "      <td>Causes</td>\n",
              "      <td>Illness (Aids/STD)</td>\n",
              "      <td>Female</td>\n",
              "      <td>0-14</td>\n",
              "      <td>0.0</td>\n",
              "    </tr>\n",
              "    <tr>\n",
              "      <th>1</th>\n",
              "      <td>A &amp; N Islands</td>\n",
              "      <td>2001</td>\n",
              "      <td>Causes</td>\n",
              "      <td>Bankruptcy or Sudden change in Economic</td>\n",
              "      <td>Female</td>\n",
              "      <td>0-14</td>\n",
              "      <td>0.0</td>\n",
              "    </tr>\n",
              "    <tr>\n",
              "      <th>2</th>\n",
              "      <td>A &amp; N Islands</td>\n",
              "      <td>2001</td>\n",
              "      <td>Causes</td>\n",
              "      <td>Cancellation/Non-Settlement of Marriage</td>\n",
              "      <td>Female</td>\n",
              "      <td>0-14</td>\n",
              "      <td>0.0</td>\n",
              "    </tr>\n",
              "    <tr>\n",
              "      <th>3</th>\n",
              "      <td>A &amp; N Islands</td>\n",
              "      <td>2001</td>\n",
              "      <td>Causes</td>\n",
              "      <td>Physical Abuse (Rape/Incest Etc.)</td>\n",
              "      <td>Female</td>\n",
              "      <td>0-14</td>\n",
              "      <td>0.0</td>\n",
              "    </tr>\n",
              "    <tr>\n",
              "      <th>4</th>\n",
              "      <td>A &amp; N Islands</td>\n",
              "      <td>2001</td>\n",
              "      <td>Causes</td>\n",
              "      <td>Dowry Dispute</td>\n",
              "      <td>Female</td>\n",
              "      <td>0-14</td>\n",
              "      <td>0.0</td>\n",
              "    </tr>\n",
              "    <tr>\n",
              "      <th>...</th>\n",
              "      <td>...</td>\n",
              "      <td>...</td>\n",
              "      <td>...</td>\n",
              "      <td>...</td>\n",
              "      <td>...</td>\n",
              "      <td>...</td>\n",
              "      <td>...</td>\n",
              "    </tr>\n",
              "    <tr>\n",
              "      <th>96226</th>\n",
              "      <td>Jammu &amp; Kashmir</td>\n",
              "      <td>2003</td>\n",
              "      <td>Professional_Profile</td>\n",
              "      <td>Others (Please Specify)</td>\n",
              "      <td>Male</td>\n",
              "      <td>30-44</td>\n",
              "      <td>13.0</td>\n",
              "    </tr>\n",
              "    <tr>\n",
              "      <th>96227</th>\n",
              "      <td>Jammu &amp; Kashmir</td>\n",
              "      <td>2003</td>\n",
              "      <td>Professional_Profile</td>\n",
              "      <td>Self-employed (Business activity)</td>\n",
              "      <td>Male</td>\n",
              "      <td>30-44</td>\n",
              "      <td>0.0</td>\n",
              "    </tr>\n",
              "    <tr>\n",
              "      <th>96228</th>\n",
              "      <td>Jammu &amp; Kashmir</td>\n",
              "      <td>2003</td>\n",
              "      <td>Professional_Profile</td>\n",
              "      <td>House Wife</td>\n",
              "      <td>Male</td>\n",
              "      <td>30-44</td>\n",
              "      <td>0.0</td>\n",
              "    </tr>\n",
              "    <tr>\n",
              "      <th>96229</th>\n",
              "      <td>Jammu &amp; Kashmir</td>\n",
              "      <td>2003</td>\n",
              "      <td>Professional_Profile</td>\n",
              "      <td>Service (Government)</td>\n",
              "      <td>Male</td>\n",
              "      <td>30-44</td>\n",
              "      <td>3.0</td>\n",
              "    </tr>\n",
              "    <tr>\n",
              "      <th>96230</th>\n",
              "      <td>Jammu &amp; Kashmir</td>\n",
              "      <td>2003</td>\n",
              "      <td>Professional_</td>\n",
              "      <td>NaN</td>\n",
              "      <td>NaN</td>\n",
              "      <td>NaN</td>\n",
              "      <td>NaN</td>\n",
              "    </tr>\n",
              "  </tbody>\n",
              "</table>\n",
              "<p>96231 rows × 7 columns</p>\n",
              "</div>"
            ],
            "text/plain": [
              "                 State  Year             Type_code  ...  Gender Age_group Total\n",
              "0        A & N Islands  2001                Causes  ...  Female      0-14   0.0\n",
              "1        A & N Islands  2001                Causes  ...  Female      0-14   0.0\n",
              "2        A & N Islands  2001                Causes  ...  Female      0-14   0.0\n",
              "3        A & N Islands  2001                Causes  ...  Female      0-14   0.0\n",
              "4        A & N Islands  2001                Causes  ...  Female      0-14   0.0\n",
              "...                ...   ...                   ...  ...     ...       ...   ...\n",
              "96226  Jammu & Kashmir  2003  Professional_Profile  ...    Male     30-44  13.0\n",
              "96227  Jammu & Kashmir  2003  Professional_Profile  ...    Male     30-44   0.0\n",
              "96228  Jammu & Kashmir  2003  Professional_Profile  ...    Male     30-44   0.0\n",
              "96229  Jammu & Kashmir  2003  Professional_Profile  ...    Male     30-44   3.0\n",
              "96230  Jammu & Kashmir  2003         Professional_  ...     NaN       NaN   NaN\n",
              "\n",
              "[96231 rows x 7 columns]"
            ]
          },
          "metadata": {
            "tags": []
          },
          "execution_count": 9
        }
      ]
    },
    {
      "cell_type": "code",
      "metadata": {
        "colab": {
          "base_uri": "https://localhost:8080/"
        },
        "id": "XKhz-SJOqBPn",
        "outputId": "b7aa663c-5a48-4e24-b125-c01f23a22648"
      },
      "source": [
        "data.shape"
      ],
      "execution_count": null,
      "outputs": [
        {
          "output_type": "execute_result",
          "data": {
            "text/plain": [
              "(96231, 7)"
            ]
          },
          "metadata": {
            "tags": []
          },
          "execution_count": 10
        }
      ]
    },
    {
      "cell_type": "code",
      "metadata": {
        "colab": {
          "base_uri": "https://localhost:8080/"
        },
        "id": "2bTaoEblqHzt",
        "outputId": "08ae6f16-033d-4558-b45a-fd44f664463b"
      },
      "source": [
        "data.info()"
      ],
      "execution_count": null,
      "outputs": [
        {
          "output_type": "stream",
          "text": [
            "<class 'pandas.core.frame.DataFrame'>\n",
            "RangeIndex: 96231 entries, 0 to 96230\n",
            "Data columns (total 7 columns):\n",
            " #   Column     Non-Null Count  Dtype  \n",
            "---  ------     --------------  -----  \n",
            " 0   State      96231 non-null  object \n",
            " 1   Year       96231 non-null  int64  \n",
            " 2   Type_code  96231 non-null  object \n",
            " 3   Type       96230 non-null  object \n",
            " 4   Gender     96230 non-null  object \n",
            " 5   Age_group  96230 non-null  object \n",
            " 6   Total      96230 non-null  float64\n",
            "dtypes: float64(1), int64(1), object(5)\n",
            "memory usage: 5.1+ MB\n"
          ],
          "name": "stdout"
        }
      ]
    },
    {
      "cell_type": "code",
      "metadata": {
        "colab": {
          "base_uri": "https://localhost:8080/",
          "height": 402
        },
        "id": "FWldCKWaqPh4",
        "outputId": "8cadac06-b3b1-48e8-d91f-346268225c12"
      },
      "source": [
        "data.isnull()"
      ],
      "execution_count": null,
      "outputs": [
        {
          "output_type": "execute_result",
          "data": {
            "text/html": [
              "<div>\n",
              "<style scoped>\n",
              "    .dataframe tbody tr th:only-of-type {\n",
              "        vertical-align: middle;\n",
              "    }\n",
              "\n",
              "    .dataframe tbody tr th {\n",
              "        vertical-align: top;\n",
              "    }\n",
              "\n",
              "    .dataframe thead th {\n",
              "        text-align: right;\n",
              "    }\n",
              "</style>\n",
              "<table border=\"1\" class=\"dataframe\">\n",
              "  <thead>\n",
              "    <tr style=\"text-align: right;\">\n",
              "      <th></th>\n",
              "      <th>State</th>\n",
              "      <th>Year</th>\n",
              "      <th>Type_code</th>\n",
              "      <th>Type</th>\n",
              "      <th>Gender</th>\n",
              "      <th>Age_group</th>\n",
              "      <th>Total</th>\n",
              "    </tr>\n",
              "  </thead>\n",
              "  <tbody>\n",
              "    <tr>\n",
              "      <th>0</th>\n",
              "      <td>False</td>\n",
              "      <td>False</td>\n",
              "      <td>False</td>\n",
              "      <td>False</td>\n",
              "      <td>False</td>\n",
              "      <td>False</td>\n",
              "      <td>False</td>\n",
              "    </tr>\n",
              "    <tr>\n",
              "      <th>1</th>\n",
              "      <td>False</td>\n",
              "      <td>False</td>\n",
              "      <td>False</td>\n",
              "      <td>False</td>\n",
              "      <td>False</td>\n",
              "      <td>False</td>\n",
              "      <td>False</td>\n",
              "    </tr>\n",
              "    <tr>\n",
              "      <th>2</th>\n",
              "      <td>False</td>\n",
              "      <td>False</td>\n",
              "      <td>False</td>\n",
              "      <td>False</td>\n",
              "      <td>False</td>\n",
              "      <td>False</td>\n",
              "      <td>False</td>\n",
              "    </tr>\n",
              "    <tr>\n",
              "      <th>3</th>\n",
              "      <td>False</td>\n",
              "      <td>False</td>\n",
              "      <td>False</td>\n",
              "      <td>False</td>\n",
              "      <td>False</td>\n",
              "      <td>False</td>\n",
              "      <td>False</td>\n",
              "    </tr>\n",
              "    <tr>\n",
              "      <th>4</th>\n",
              "      <td>False</td>\n",
              "      <td>False</td>\n",
              "      <td>False</td>\n",
              "      <td>False</td>\n",
              "      <td>False</td>\n",
              "      <td>False</td>\n",
              "      <td>False</td>\n",
              "    </tr>\n",
              "    <tr>\n",
              "      <th>...</th>\n",
              "      <td>...</td>\n",
              "      <td>...</td>\n",
              "      <td>...</td>\n",
              "      <td>...</td>\n",
              "      <td>...</td>\n",
              "      <td>...</td>\n",
              "      <td>...</td>\n",
              "    </tr>\n",
              "    <tr>\n",
              "      <th>96226</th>\n",
              "      <td>False</td>\n",
              "      <td>False</td>\n",
              "      <td>False</td>\n",
              "      <td>False</td>\n",
              "      <td>False</td>\n",
              "      <td>False</td>\n",
              "      <td>False</td>\n",
              "    </tr>\n",
              "    <tr>\n",
              "      <th>96227</th>\n",
              "      <td>False</td>\n",
              "      <td>False</td>\n",
              "      <td>False</td>\n",
              "      <td>False</td>\n",
              "      <td>False</td>\n",
              "      <td>False</td>\n",
              "      <td>False</td>\n",
              "    </tr>\n",
              "    <tr>\n",
              "      <th>96228</th>\n",
              "      <td>False</td>\n",
              "      <td>False</td>\n",
              "      <td>False</td>\n",
              "      <td>False</td>\n",
              "      <td>False</td>\n",
              "      <td>False</td>\n",
              "      <td>False</td>\n",
              "    </tr>\n",
              "    <tr>\n",
              "      <th>96229</th>\n",
              "      <td>False</td>\n",
              "      <td>False</td>\n",
              "      <td>False</td>\n",
              "      <td>False</td>\n",
              "      <td>False</td>\n",
              "      <td>False</td>\n",
              "      <td>False</td>\n",
              "    </tr>\n",
              "    <tr>\n",
              "      <th>96230</th>\n",
              "      <td>False</td>\n",
              "      <td>False</td>\n",
              "      <td>False</td>\n",
              "      <td>True</td>\n",
              "      <td>True</td>\n",
              "      <td>True</td>\n",
              "      <td>True</td>\n",
              "    </tr>\n",
              "  </tbody>\n",
              "</table>\n",
              "<p>96231 rows × 7 columns</p>\n",
              "</div>"
            ],
            "text/plain": [
              "       State   Year  Type_code   Type  Gender  Age_group  Total\n",
              "0      False  False      False  False   False      False  False\n",
              "1      False  False      False  False   False      False  False\n",
              "2      False  False      False  False   False      False  False\n",
              "3      False  False      False  False   False      False  False\n",
              "4      False  False      False  False   False      False  False\n",
              "...      ...    ...        ...    ...     ...        ...    ...\n",
              "96226  False  False      False  False   False      False  False\n",
              "96227  False  False      False  False   False      False  False\n",
              "96228  False  False      False  False   False      False  False\n",
              "96229  False  False      False  False   False      False  False\n",
              "96230  False  False      False   True    True       True   True\n",
              "\n",
              "[96231 rows x 7 columns]"
            ]
          },
          "metadata": {
            "tags": []
          },
          "execution_count": 12
        }
      ]
    },
    {
      "cell_type": "code",
      "metadata": {
        "colab": {
          "base_uri": "https://localhost:8080/"
        },
        "id": "4hq5G6OvqlOb",
        "outputId": "ce154d40-8080-455c-92c2-f6215b2ef813"
      },
      "source": [
        "data.isnull().sum()"
      ],
      "execution_count": null,
      "outputs": [
        {
          "output_type": "execute_result",
          "data": {
            "text/plain": [
              "State        0\n",
              "Year         0\n",
              "Type_code    0\n",
              "Type         1\n",
              "Gender       1\n",
              "Age_group    1\n",
              "Total        1\n",
              "dtype: int64"
            ]
          },
          "metadata": {
            "tags": []
          },
          "execution_count": 13
        }
      ]
    },
    {
      "cell_type": "code",
      "metadata": {
        "colab": {
          "base_uri": "https://localhost:8080/",
          "height": 687
        },
        "id": "NO5QmZ4tq-mk",
        "outputId": "5ff41357-a846-42d4-aeaf-2c90fb2d9d9c"
      },
      "source": [
        "data"
      ],
      "execution_count": null,
      "outputs": [
        {
          "output_type": "execute_result",
          "data": {
            "text/html": [
              "<div>\n",
              "<style scoped>\n",
              "    .dataframe tbody tr th:only-of-type {\n",
              "        vertical-align: middle;\n",
              "    }\n",
              "\n",
              "    .dataframe tbody tr th {\n",
              "        vertical-align: top;\n",
              "    }\n",
              "\n",
              "    .dataframe thead th {\n",
              "        text-align: right;\n",
              "    }\n",
              "</style>\n",
              "<table border=\"1\" class=\"dataframe\">\n",
              "  <thead>\n",
              "    <tr style=\"text-align: right;\">\n",
              "      <th></th>\n",
              "      <th>State</th>\n",
              "      <th>Year</th>\n",
              "      <th>Type_code</th>\n",
              "      <th>Type</th>\n",
              "      <th>Gender</th>\n",
              "      <th>Age_group</th>\n",
              "      <th>Total</th>\n",
              "    </tr>\n",
              "  </thead>\n",
              "  <tbody>\n",
              "    <tr>\n",
              "      <th>0</th>\n",
              "      <td>A &amp; N Islands</td>\n",
              "      <td>2001</td>\n",
              "      <td>Causes</td>\n",
              "      <td>Illness (Aids/STD)</td>\n",
              "      <td>Female</td>\n",
              "      <td>0-14</td>\n",
              "      <td>0.0</td>\n",
              "    </tr>\n",
              "    <tr>\n",
              "      <th>1</th>\n",
              "      <td>A &amp; N Islands</td>\n",
              "      <td>2001</td>\n",
              "      <td>Causes</td>\n",
              "      <td>Bankruptcy or Sudden change in Economic</td>\n",
              "      <td>Female</td>\n",
              "      <td>0-14</td>\n",
              "      <td>0.0</td>\n",
              "    </tr>\n",
              "    <tr>\n",
              "      <th>2</th>\n",
              "      <td>A &amp; N Islands</td>\n",
              "      <td>2001</td>\n",
              "      <td>Causes</td>\n",
              "      <td>Cancellation/Non-Settlement of Marriage</td>\n",
              "      <td>Female</td>\n",
              "      <td>0-14</td>\n",
              "      <td>0.0</td>\n",
              "    </tr>\n",
              "    <tr>\n",
              "      <th>3</th>\n",
              "      <td>A &amp; N Islands</td>\n",
              "      <td>2001</td>\n",
              "      <td>Causes</td>\n",
              "      <td>Physical Abuse (Rape/Incest Etc.)</td>\n",
              "      <td>Female</td>\n",
              "      <td>0-14</td>\n",
              "      <td>0.0</td>\n",
              "    </tr>\n",
              "    <tr>\n",
              "      <th>4</th>\n",
              "      <td>A &amp; N Islands</td>\n",
              "      <td>2001</td>\n",
              "      <td>Causes</td>\n",
              "      <td>Dowry Dispute</td>\n",
              "      <td>Female</td>\n",
              "      <td>0-14</td>\n",
              "      <td>0.0</td>\n",
              "    </tr>\n",
              "    <tr>\n",
              "      <th>...</th>\n",
              "      <td>...</td>\n",
              "      <td>...</td>\n",
              "      <td>...</td>\n",
              "      <td>...</td>\n",
              "      <td>...</td>\n",
              "      <td>...</td>\n",
              "      <td>...</td>\n",
              "    </tr>\n",
              "    <tr>\n",
              "      <th>96226</th>\n",
              "      <td>Jammu &amp; Kashmir</td>\n",
              "      <td>2003</td>\n",
              "      <td>Professional_Profile</td>\n",
              "      <td>Others (Please Specify)</td>\n",
              "      <td>Male</td>\n",
              "      <td>30-44</td>\n",
              "      <td>13.0</td>\n",
              "    </tr>\n",
              "    <tr>\n",
              "      <th>96227</th>\n",
              "      <td>Jammu &amp; Kashmir</td>\n",
              "      <td>2003</td>\n",
              "      <td>Professional_Profile</td>\n",
              "      <td>Self-employed (Business activity)</td>\n",
              "      <td>Male</td>\n",
              "      <td>30-44</td>\n",
              "      <td>0.0</td>\n",
              "    </tr>\n",
              "    <tr>\n",
              "      <th>96228</th>\n",
              "      <td>Jammu &amp; Kashmir</td>\n",
              "      <td>2003</td>\n",
              "      <td>Professional_Profile</td>\n",
              "      <td>House Wife</td>\n",
              "      <td>Male</td>\n",
              "      <td>30-44</td>\n",
              "      <td>0.0</td>\n",
              "    </tr>\n",
              "    <tr>\n",
              "      <th>96229</th>\n",
              "      <td>Jammu &amp; Kashmir</td>\n",
              "      <td>2003</td>\n",
              "      <td>Professional_Profile</td>\n",
              "      <td>Service (Government)</td>\n",
              "      <td>Male</td>\n",
              "      <td>30-44</td>\n",
              "      <td>3.0</td>\n",
              "    </tr>\n",
              "    <tr>\n",
              "      <th>96230</th>\n",
              "      <td>Jammu &amp; Kashmir</td>\n",
              "      <td>2003</td>\n",
              "      <td>Professional_</td>\n",
              "      <td>NaN</td>\n",
              "      <td>NaN</td>\n",
              "      <td>NaN</td>\n",
              "      <td>NaN</td>\n",
              "    </tr>\n",
              "  </tbody>\n",
              "</table>\n",
              "<p>96231 rows × 7 columns</p>\n",
              "</div>"
            ],
            "text/plain": [
              "                 State  Year             Type_code  ...  Gender Age_group Total\n",
              "0        A & N Islands  2001                Causes  ...  Female      0-14   0.0\n",
              "1        A & N Islands  2001                Causes  ...  Female      0-14   0.0\n",
              "2        A & N Islands  2001                Causes  ...  Female      0-14   0.0\n",
              "3        A & N Islands  2001                Causes  ...  Female      0-14   0.0\n",
              "4        A & N Islands  2001                Causes  ...  Female      0-14   0.0\n",
              "...                ...   ...                   ...  ...     ...       ...   ...\n",
              "96226  Jammu & Kashmir  2003  Professional_Profile  ...    Male     30-44  13.0\n",
              "96227  Jammu & Kashmir  2003  Professional_Profile  ...    Male     30-44   0.0\n",
              "96228  Jammu & Kashmir  2003  Professional_Profile  ...    Male     30-44   0.0\n",
              "96229  Jammu & Kashmir  2003  Professional_Profile  ...    Male     30-44   3.0\n",
              "96230  Jammu & Kashmir  2003         Professional_  ...     NaN       NaN   NaN\n",
              "\n",
              "[96231 rows x 7 columns]"
            ]
          },
          "metadata": {
            "tags": []
          },
          "execution_count": 14
        }
      ]
    },
    {
      "cell_type": "code",
      "metadata": {
        "colab": {
          "base_uri": "https://localhost:8080/"
        },
        "id": "j7wfZ0CarCgU",
        "outputId": "3578c208-d785-4764-a1bc-dfa9397f273f"
      },
      "source": [
        "data.Total"
      ],
      "execution_count": null,
      "outputs": [
        {
          "output_type": "execute_result",
          "data": {
            "text/plain": [
              "0         0.0\n",
              "1         0.0\n",
              "2         0.0\n",
              "3         0.0\n",
              "4         0.0\n",
              "         ... \n",
              "96226    13.0\n",
              "96227     0.0\n",
              "96228     0.0\n",
              "96229     3.0\n",
              "96230     NaN\n",
              "Name: Total, Length: 96231, dtype: float64"
            ]
          },
          "metadata": {
            "tags": []
          },
          "execution_count": 15
        }
      ]
    },
    {
      "cell_type": "code",
      "metadata": {
        "colab": {
          "base_uri": "https://localhost:8080/"
        },
        "id": "Mv8hHTRIrf-l",
        "outputId": "fab4f695-1909-4490-bfb9-8064350b27dc"
      },
      "source": [
        "data.iloc[:,6]"
      ],
      "execution_count": null,
      "outputs": [
        {
          "output_type": "execute_result",
          "data": {
            "text/plain": [
              "0         0.0\n",
              "1         0.0\n",
              "2         0.0\n",
              "3         0.0\n",
              "4         0.0\n",
              "         ... \n",
              "96226    13.0\n",
              "96227     0.0\n",
              "96228     0.0\n",
              "96229     3.0\n",
              "96230     NaN\n",
              "Name: Total, Length: 96231, dtype: float64"
            ]
          },
          "metadata": {
            "tags": []
          },
          "execution_count": 16
        }
      ]
    },
    {
      "cell_type": "code",
      "metadata": {
        "colab": {
          "base_uri": "https://localhost:8080/"
        },
        "id": "XaAHr95juFjM",
        "outputId": "1c687575-a3a1-494b-c9e4-aa290c00fe23"
      },
      "source": [
        "data.loc[:,'Total']"
      ],
      "execution_count": null,
      "outputs": [
        {
          "output_type": "execute_result",
          "data": {
            "text/plain": [
              "0         0.0\n",
              "1         0.0\n",
              "2         0.0\n",
              "3         0.0\n",
              "4         0.0\n",
              "         ... \n",
              "96226    13.0\n",
              "96227     0.0\n",
              "96228     0.0\n",
              "96229     3.0\n",
              "96230     NaN\n",
              "Name: Total, Length: 96231, dtype: float64"
            ]
          },
          "metadata": {
            "tags": []
          },
          "execution_count": 17
        }
      ]
    },
    {
      "cell_type": "code",
      "metadata": {
        "colab": {
          "base_uri": "https://localhost:8080/"
        },
        "id": "rLe5cnTjuPBl",
        "outputId": "34ce2c03-0adf-4cf1-cc15-17a3d0050a0c"
      },
      "source": [
        "data.Total.sum()"
      ],
      "execution_count": null,
      "outputs": [
        {
          "output_type": "execute_result",
          "data": {
            "text/plain": [
              "1968078.0"
            ]
          },
          "metadata": {
            "tags": []
          },
          "execution_count": 18
        }
      ]
    },
    {
      "cell_type": "code",
      "metadata": {
        "colab": {
          "base_uri": "https://localhost:8080/"
        },
        "id": "dn0rNKOquWKs",
        "outputId": "c3843ae7-27e7-4104-c907-b6ce5c4fc171"
      },
      "source": [
        "index = data['State']=='Punjab'\r\n",
        "data[index].Total.sum()"
      ],
      "execution_count": null,
      "outputs": [
        {
          "output_type": "execute_result",
          "data": {
            "text/plain": [
              "0.0"
            ]
          },
          "metadata": {
            "tags": []
          },
          "execution_count": 19
        }
      ]
    },
    {
      "cell_type": "code",
      "metadata": {
        "colab": {
          "base_uri": "https://localhost:8080/"
        },
        "id": "5hRmPGqLu5_t",
        "outputId": "51202839-82ff-4537-d2d3-7d280e16ec6b"
      },
      "source": [
        "data.groupby('State').Total.sum()"
      ],
      "execution_count": null,
      "outputs": [
        {
          "output_type": "execute_result",
          "data": {
            "text/plain": [
              "State\n",
              "A & N Islands          8109.0\n",
              "Andhra Pradesh       814059.0\n",
              "Arunachal Pradesh      6633.0\n",
              "Assam                172276.0\n",
              "Bihar                 46214.0\n",
              "Chandigarh             5164.0\n",
              "Chhattisgarh         302354.0\n",
              "D & N Haveli           3430.0\n",
              "Daman & Diu            1391.0\n",
              "Delhi (Ut)            84272.0\n",
              "Goa                   17363.0\n",
              "Gujarat              330858.0\n",
              "Haryana              147176.0\n",
              "Himachal Pradesh      26562.0\n",
              "Jammu & Kashmir        2217.0\n",
              "Name: Total, dtype: float64"
            ]
          },
          "metadata": {
            "tags": []
          },
          "execution_count": 20
        }
      ]
    },
    {
      "cell_type": "code",
      "metadata": {
        "colab": {
          "base_uri": "https://localhost:8080/"
        },
        "id": "yWMCj20AvGK2",
        "outputId": "1499d878-d0df-47d3-f4c5-56da4a71f904"
      },
      "source": [
        "data.groupby('State').Total.sum().sort_values()"
      ],
      "execution_count": null,
      "outputs": [
        {
          "output_type": "execute_result",
          "data": {
            "text/plain": [
              "State\n",
              "Daman & Diu            1391.0\n",
              "Jammu & Kashmir        2217.0\n",
              "D & N Haveli           3430.0\n",
              "Chandigarh             5164.0\n",
              "Arunachal Pradesh      6633.0\n",
              "A & N Islands          8109.0\n",
              "Goa                   17363.0\n",
              "Himachal Pradesh      26562.0\n",
              "Bihar                 46214.0\n",
              "Delhi (Ut)            84272.0\n",
              "Haryana              147176.0\n",
              "Assam                172276.0\n",
              "Chhattisgarh         302354.0\n",
              "Gujarat              330858.0\n",
              "Andhra Pradesh       814059.0\n",
              "Name: Total, dtype: float64"
            ]
          },
          "metadata": {
            "tags": []
          },
          "execution_count": 22
        }
      ]
    },
    {
      "cell_type": "code",
      "metadata": {
        "colab": {
          "base_uri": "https://localhost:8080/"
        },
        "id": "KkHfDbKpfw9n",
        "outputId": "31726f8f-fd8f-4a7e-d293-9aa9950b41a3"
      },
      "source": [
        "data.groupby('State').Total.sum().sort_values(ascending=False)"
      ],
      "execution_count": null,
      "outputs": [
        {
          "output_type": "execute_result",
          "data": {
            "text/plain": [
              "State\n",
              "Andhra Pradesh       814059.0\n",
              "Gujarat              330858.0\n",
              "Chhattisgarh         302354.0\n",
              "Assam                172276.0\n",
              "Haryana              147176.0\n",
              "Delhi (Ut)            84272.0\n",
              "Bihar                 46214.0\n",
              "Himachal Pradesh      26562.0\n",
              "Goa                   17363.0\n",
              "A & N Islands          8109.0\n",
              "Arunachal Pradesh      6633.0\n",
              "Chandigarh             5164.0\n",
              "D & N Haveli           3430.0\n",
              "Jammu & Kashmir        2217.0\n",
              "Daman & Diu            1391.0\n",
              "Name: Total, dtype: float64"
            ]
          },
          "metadata": {
            "tags": []
          },
          "execution_count": 23
        }
      ]
    },
    {
      "cell_type": "code",
      "metadata": {
        "colab": {
          "base_uri": "https://localhost:8080/"
        },
        "id": "HDFoUbkHhAKd",
        "outputId": "08e88fd8-4a2c-42ce-ff54-df413564b684"
      },
      "source": [
        "D=data.groupby('Year').Total.sum()\r\n",
        "D"
      ],
      "execution_count": null,
      "outputs": [
        {
          "output_type": "execute_result",
          "data": {
            "text/plain": [
              "Year\n",
              "2001    134536.0\n",
              "2002    140040.0\n",
              "2003    138139.0\n",
              "2004    151643.0\n",
              "2005    154017.0\n",
              "2006    157655.0\n",
              "2007    171843.0\n",
              "2008    173735.0\n",
              "2009    178834.0\n",
              "2010    192954.0\n",
              "2011    189519.0\n",
              "2012    185163.0\n",
              "Name: Total, dtype: float64"
            ]
          },
          "metadata": {
            "tags": []
          },
          "execution_count": 26
        }
      ]
    },
    {
      "cell_type": "code",
      "metadata": {
        "id": "my-GLRhohhDJ"
      },
      "source": [
        "x=D.index.values\r\n",
        "y=D.values"
      ],
      "execution_count": null,
      "outputs": []
    },
    {
      "cell_type": "code",
      "metadata": {
        "colab": {
          "base_uri": "https://localhost:8080/",
          "height": 282
        },
        "id": "Uhms98OTh_iA",
        "outputId": "1269f164-aec7-4451-b811-12d8217561ef"
      },
      "source": [
        "plt.scatter(x,y)"
      ],
      "execution_count": null,
      "outputs": [
        {
          "output_type": "execute_result",
          "data": {
            "text/plain": [
              "<matplotlib.collections.PathCollection at 0x7f626a988400>"
            ]
          },
          "metadata": {
            "tags": []
          },
          "execution_count": 28
        },
        {
          "output_type": "display_data",
          "data": {
            "image/png": "[encoded data removed]",
            "text/plain": [
              "<Figure size 432x288 with 1 Axes>"
            ]
          },
          "metadata": {
            "tags": [],
            "needs_background": "light"
          }
        }
      ]
    },
    {
      "cell_type": "code",
      "metadata": {
        "colab": {
          "base_uri": "https://localhost:8080/"
        },
        "id": "H9Y75FRViEAw",
        "outputId": "5d6d20c3-e5f8-4b00-c318-34f2a6975f31"
      },
      "source": [
        "data.groupby('Gender').Total.sum()"
      ],
      "execution_count": null,
      "outputs": [
        {
          "output_type": "execute_result",
          "data": {
            "text/plain": [
              "Gender\n",
              "Female     672841.0\n",
              "Male      1295237.0\n",
              "Name: Total, dtype: float64"
            ]
          },
          "metadata": {
            "tags": []
          },
          "execution_count": 29
        }
      ]
    },
    {
      "cell_type": "code",
      "metadata": {
        "colab": {
          "base_uri": "https://localhost:8080/"
        },
        "id": "1h6tdHcNiuuW",
        "outputId": "49f4e9a7-ee91-476c-b0e4-44d44ad890fd"
      },
      "source": [
        "data.groupby(['State','Year']).Total.sum()"
      ],
      "execution_count": null,
      "outputs": [
        {
          "output_type": "execute_result",
          "data": {
            "text/plain": [
              "State             Year\n",
              "A & N Islands     2001     645.0\n",
              "                  2002     720.0\n",
              "                  2003     565.0\n",
              "                  2004     610.0\n",
              "                  2005     695.0\n",
              "                           ...  \n",
              "Himachal Pradesh  2011    2214.0\n",
              "                  2012    2636.0\n",
              "Jammu & Kashmir   2001     765.0\n",
              "                  2002     919.0\n",
              "                  2003     533.0\n",
              "Name: Total, Length: 171, dtype: float64"
            ]
          },
          "metadata": {
            "tags": []
          },
          "execution_count": 31
        }
      ]
    },
    {
      "cell_type": "code",
      "metadata": {
        "colab": {
          "base_uri": "https://localhost:8080/",
          "height": 431
        },
        "id": "oUQBXQt0jAtZ",
        "outputId": "96fcb027-4f29-4118-80d3-5f851deaa09c"
      },
      "source": [
        "data.groupby(['State','Year'])[['Total']].sum()"
      ],
      "execution_count": null,
      "outputs": [
        {
          "output_type": "execute_result",
          "data": {
            "text/html": [
              "<div>\n",
              "<style scoped>\n",
              "    .dataframe tbody tr th:only-of-type {\n",
              "        vertical-align: middle;\n",
              "    }\n",
              "\n",
              "    .dataframe tbody tr th {\n",
              "        vertical-align: top;\n",
              "    }\n",
              "\n",
              "    .dataframe thead th {\n",
              "        text-align: right;\n",
              "    }\n",
              "</style>\n",
              "<table border=\"1\" class=\"dataframe\">\n",
              "  <thead>\n",
              "    <tr style=\"text-align: right;\">\n",
              "      <th></th>\n",
              "      <th></th>\n",
              "      <th>Total</th>\n",
              "    </tr>\n",
              "    <tr>\n",
              "      <th>State</th>\n",
              "      <th>Year</th>\n",
              "      <th></th>\n",
              "    </tr>\n",
              "  </thead>\n",
              "  <tbody>\n",
              "    <tr>\n",
              "      <th rowspan=\"5\" valign=\"top\">A &amp; N Islands</th>\n",
              "      <th>2001</th>\n",
              "      <td>645.0</td>\n",
              "    </tr>\n",
              "    <tr>\n",
              "      <th>2002</th>\n",
              "      <td>720.0</td>\n",
              "    </tr>\n",
              "    <tr>\n",
              "      <th>2003</th>\n",
              "      <td>565.0</td>\n",
              "    </tr>\n",
              "    <tr>\n",
              "      <th>2004</th>\n",
              "      <td>610.0</td>\n",
              "    </tr>\n",
              "    <tr>\n",
              "      <th>2005</th>\n",
              "      <td>695.0</td>\n",
              "    </tr>\n",
              "    <tr>\n",
              "      <th>...</th>\n",
              "      <th>...</th>\n",
              "      <td>...</td>\n",
              "    </tr>\n",
              "    <tr>\n",
              "      <th rowspan=\"2\" valign=\"top\">Himachal Pradesh</th>\n",
              "      <th>2011</th>\n",
              "      <td>2214.0</td>\n",
              "    </tr>\n",
              "    <tr>\n",
              "      <th>2012</th>\n",
              "      <td>2636.0</td>\n",
              "    </tr>\n",
              "    <tr>\n",
              "      <th rowspan=\"3\" valign=\"top\">Jammu &amp; Kashmir</th>\n",
              "      <th>2001</th>\n",
              "      <td>765.0</td>\n",
              "    </tr>\n",
              "    <tr>\n",
              "      <th>2002</th>\n",
              "      <td>919.0</td>\n",
              "    </tr>\n",
              "    <tr>\n",
              "      <th>2003</th>\n",
              "      <td>533.0</td>\n",
              "    </tr>\n",
              "  </tbody>\n",
              "</table>\n",
              "<p>171 rows × 1 columns</p>\n",
              "</div>"
            ],
            "text/plain": [
              "                        Total\n",
              "State            Year        \n",
              "A & N Islands    2001   645.0\n",
              "                 2002   720.0\n",
              "                 2003   565.0\n",
              "                 2004   610.0\n",
              "                 2005   695.0\n",
              "...                       ...\n",
              "Himachal Pradesh 2011  2214.0\n",
              "                 2012  2636.0\n",
              "Jammu & Kashmir  2001   765.0\n",
              "                 2002   919.0\n",
              "                 2003   533.0\n",
              "\n",
              "[171 rows x 1 columns]"
            ]
          },
          "metadata": {
            "tags": []
          },
          "execution_count": 32
        }
      ]
    },
    {
      "cell_type": "code",
      "metadata": {
        "id": "NoySGdwtjhEF"
      },
      "source": [
        "data.groupby(['State','Year'])[['Total']].sum().to_html('index.html')\r\n",
        "data.groupby(['State','Year'])[['Total']].sum().to_csv('index.csv')"
      ],
      "execution_count": null,
      "outputs": []
    },
    {
      "cell_type": "code",
      "metadata": {
        "colab": {
          "base_uri": "https://localhost:8080/",
          "height": 787
        },
        "id": "b6GuZ9rckZyN",
        "outputId": "a48d8a39-da90-438b-af8a-130807019818"
      },
      "source": [
        "data.groupby(['Year','Gender'])[['Total']].sum()"
      ],
      "execution_count": null,
      "outputs": [
        {
          "output_type": "execute_result",
          "data": {
            "text/html": [
              "<div>\n",
              "<style scoped>\n",
              "    .dataframe tbody tr th:only-of-type {\n",
              "        vertical-align: middle;\n",
              "    }\n",
              "\n",
              "    .dataframe tbody tr th {\n",
              "        vertical-align: top;\n",
              "    }\n",
              "\n",
              "    .dataframe thead th {\n",
              "        text-align: right;\n",
              "    }\n",
              "</style>\n",
              "<table border=\"1\" class=\"dataframe\">\n",
              "  <thead>\n",
              "    <tr style=\"text-align: right;\">\n",
              "      <th></th>\n",
              "      <th></th>\n",
              "      <th>Total</th>\n",
              "    </tr>\n",
              "    <tr>\n",
              "      <th>Year</th>\n",
              "      <th>Gender</th>\n",
              "      <th></th>\n",
              "    </tr>\n",
              "  </thead>\n",
              "  <tbody>\n",
              "    <tr>\n",
              "      <th rowspan=\"2\" valign=\"top\">2001</th>\n",
              "      <th>Female</th>\n",
              "      <td>51642.0</td>\n",
              "    </tr>\n",
              "    <tr>\n",
              "      <th>Male</th>\n",
              "      <td>82894.0</td>\n",
              "    </tr>\n",
              "    <tr>\n",
              "      <th rowspan=\"2\" valign=\"top\">2002</th>\n",
              "      <th>Female</th>\n",
              "      <td>49846.0</td>\n",
              "    </tr>\n",
              "    <tr>\n",
              "      <th>Male</th>\n",
              "      <td>90194.0</td>\n",
              "    </tr>\n",
              "    <tr>\n",
              "      <th rowspan=\"2\" valign=\"top\">2003</th>\n",
              "      <th>Female</th>\n",
              "      <td>48778.0</td>\n",
              "    </tr>\n",
              "    <tr>\n",
              "      <th>Male</th>\n",
              "      <td>89361.0</td>\n",
              "    </tr>\n",
              "    <tr>\n",
              "      <th rowspan=\"2\" valign=\"top\">2004</th>\n",
              "      <th>Female</th>\n",
              "      <td>51744.0</td>\n",
              "    </tr>\n",
              "    <tr>\n",
              "      <th>Male</th>\n",
              "      <td>99899.0</td>\n",
              "    </tr>\n",
              "    <tr>\n",
              "      <th rowspan=\"2\" valign=\"top\">2005</th>\n",
              "      <th>Female</th>\n",
              "      <td>52564.0</td>\n",
              "    </tr>\n",
              "    <tr>\n",
              "      <th>Male</th>\n",
              "      <td>101453.0</td>\n",
              "    </tr>\n",
              "    <tr>\n",
              "      <th rowspan=\"2\" valign=\"top\">2006</th>\n",
              "      <th>Female</th>\n",
              "      <td>53250.0</td>\n",
              "    </tr>\n",
              "    <tr>\n",
              "      <th>Male</th>\n",
              "      <td>104405.0</td>\n",
              "    </tr>\n",
              "    <tr>\n",
              "      <th rowspan=\"2\" valign=\"top\">2007</th>\n",
              "      <th>Female</th>\n",
              "      <td>57890.0</td>\n",
              "    </tr>\n",
              "    <tr>\n",
              "      <th>Male</th>\n",
              "      <td>113953.0</td>\n",
              "    </tr>\n",
              "    <tr>\n",
              "      <th rowspan=\"2\" valign=\"top\">2008</th>\n",
              "      <th>Female</th>\n",
              "      <td>59086.0</td>\n",
              "    </tr>\n",
              "    <tr>\n",
              "      <th>Male</th>\n",
              "      <td>114649.0</td>\n",
              "    </tr>\n",
              "    <tr>\n",
              "      <th rowspan=\"2\" valign=\"top\">2009</th>\n",
              "      <th>Female</th>\n",
              "      <td>61551.0</td>\n",
              "    </tr>\n",
              "    <tr>\n",
              "      <th>Male</th>\n",
              "      <td>117283.0</td>\n",
              "    </tr>\n",
              "    <tr>\n",
              "      <th rowspan=\"2\" valign=\"top\">2010</th>\n",
              "      <th>Female</th>\n",
              "      <td>62674.0</td>\n",
              "    </tr>\n",
              "    <tr>\n",
              "      <th>Male</th>\n",
              "      <td>130280.0</td>\n",
              "    </tr>\n",
              "    <tr>\n",
              "      <th rowspan=\"2\" valign=\"top\">2011</th>\n",
              "      <th>Female</th>\n",
              "      <td>63339.0</td>\n",
              "    </tr>\n",
              "    <tr>\n",
              "      <th>Male</th>\n",
              "      <td>126180.0</td>\n",
              "    </tr>\n",
              "    <tr>\n",
              "      <th rowspan=\"2\" valign=\"top\">2012</th>\n",
              "      <th>Female</th>\n",
              "      <td>60477.0</td>\n",
              "    </tr>\n",
              "    <tr>\n",
              "      <th>Male</th>\n",
              "      <td>124686.0</td>\n",
              "    </tr>\n",
              "  </tbody>\n",
              "</table>\n",
              "</div>"
            ],
            "text/plain": [
              "                Total\n",
              "Year Gender          \n",
              "2001 Female   51642.0\n",
              "     Male     82894.0\n",
              "2002 Female   49846.0\n",
              "     Male     90194.0\n",
              "2003 Female   48778.0\n",
              "     Male     89361.0\n",
              "2004 Female   51744.0\n",
              "     Male     99899.0\n",
              "2005 Female   52564.0\n",
              "     Male    101453.0\n",
              "2006 Female   53250.0\n",
              "     Male    104405.0\n",
              "2007 Female   57890.0\n",
              "     Male    113953.0\n",
              "2008 Female   59086.0\n",
              "     Male    114649.0\n",
              "2009 Female   61551.0\n",
              "     Male    117283.0\n",
              "2010 Female   62674.0\n",
              "     Male    130280.0\n",
              "2011 Female   63339.0\n",
              "     Male    126180.0\n",
              "2012 Female   60477.0\n",
              "     Male    124686.0"
            ]
          },
          "metadata": {
            "tags": []
          },
          "execution_count": 38
        }
      ]
    },
    {
      "cell_type": "code",
      "metadata": {
        "colab": {
          "base_uri": "https://localhost:8080/",
          "height": 431
        },
        "id": "i-csueajk9g_",
        "outputId": "4522bf46-eb87-4402-e958-44ce172d0804"
      },
      "source": [
        "data.groupby(['State','Year','Gender'])[['Total']].sum()"
      ],
      "execution_count": null,
      "outputs": [
        {
          "output_type": "execute_result",
          "data": {
            "text/html": [
              "<div>\n",
              "<style scoped>\n",
              "    .dataframe tbody tr th:only-of-type {\n",
              "        vertical-align: middle;\n",
              "    }\n",
              "\n",
              "    .dataframe tbody tr th {\n",
              "        vertical-align: top;\n",
              "    }\n",
              "\n",
              "    .dataframe thead th {\n",
              "        text-align: right;\n",
              "    }\n",
              "</style>\n",
              "<table border=\"1\" class=\"dataframe\">\n",
              "  <thead>\n",
              "    <tr style=\"text-align: right;\">\n",
              "      <th></th>\n",
              "      <th></th>\n",
              "      <th></th>\n",
              "      <th>Total</th>\n",
              "    </tr>\n",
              "    <tr>\n",
              "      <th>State</th>\n",
              "      <th>Year</th>\n",
              "      <th>Gender</th>\n",
              "      <th></th>\n",
              "    </tr>\n",
              "  </thead>\n",
              "  <tbody>\n",
              "    <tr>\n",
              "      <th rowspan=\"5\" valign=\"top\">A &amp; N Islands</th>\n",
              "      <th rowspan=\"2\" valign=\"top\">2001</th>\n",
              "      <th>Female</th>\n",
              "      <td>250.0</td>\n",
              "    </tr>\n",
              "    <tr>\n",
              "      <th>Male</th>\n",
              "      <td>395.0</td>\n",
              "    </tr>\n",
              "    <tr>\n",
              "      <th rowspan=\"2\" valign=\"top\">2002</th>\n",
              "      <th>Female</th>\n",
              "      <td>265.0</td>\n",
              "    </tr>\n",
              "    <tr>\n",
              "      <th>Male</th>\n",
              "      <td>455.0</td>\n",
              "    </tr>\n",
              "    <tr>\n",
              "      <th>2003</th>\n",
              "      <th>Female</th>\n",
              "      <td>215.0</td>\n",
              "    </tr>\n",
              "    <tr>\n",
              "      <th>...</th>\n",
              "      <th>...</th>\n",
              "      <th>...</th>\n",
              "      <td>...</td>\n",
              "    </tr>\n",
              "    <tr>\n",
              "      <th rowspan=\"5\" valign=\"top\">Jammu &amp; Kashmir</th>\n",
              "      <th>2001</th>\n",
              "      <th>Male</th>\n",
              "      <td>455.0</td>\n",
              "    </tr>\n",
              "    <tr>\n",
              "      <th rowspan=\"2\" valign=\"top\">2002</th>\n",
              "      <th>Female</th>\n",
              "      <td>440.0</td>\n",
              "    </tr>\n",
              "    <tr>\n",
              "      <th>Male</th>\n",
              "      <td>479.0</td>\n",
              "    </tr>\n",
              "    <tr>\n",
              "      <th rowspan=\"2\" valign=\"top\">2003</th>\n",
              "      <th>Female</th>\n",
              "      <td>294.0</td>\n",
              "    </tr>\n",
              "    <tr>\n",
              "      <th>Male</th>\n",
              "      <td>239.0</td>\n",
              "    </tr>\n",
              "  </tbody>\n",
              "</table>\n",
              "<p>342 rows × 1 columns</p>\n",
              "</div>"
            ],
            "text/plain": [
              "                             Total\n",
              "State           Year Gender       \n",
              "A & N Islands   2001 Female  250.0\n",
              "                     Male    395.0\n",
              "                2002 Female  265.0\n",
              "                     Male    455.0\n",
              "                2003 Female  215.0\n",
              "...                            ...\n",
              "Jammu & Kashmir 2001 Male    455.0\n",
              "                2002 Female  440.0\n",
              "                     Male    479.0\n",
              "                2003 Female  294.0\n",
              "                     Male    239.0\n",
              "\n",
              "[342 rows x 1 columns]"
            ]
          },
          "metadata": {
            "tags": []
          },
          "execution_count": 39
        }
      ]
    },
    {
      "cell_type": "code",
      "metadata": {
        "colab": {
          "base_uri": "https://localhost:8080/"
        },
        "id": "fABgmhFwlI64",
        "outputId": "5b6dd88e-bc93-4fc4-c957-93da08198b01"
      },
      "source": [
        "data.groupby('Type').Total.sum().sort_values(ascending=False)"
      ],
      "execution_count": null,
      "outputs": [
        {
          "output_type": "execute_result",
          "data": {
            "text/plain": [
              "Type\n",
              "Married                                           280112.0\n",
              "Others (Please Specify)                           131629.0\n",
              "By Hanging                                        113575.0\n",
              "No Education                                      105662.0\n",
              "Primary                                            97765.0\n",
              "                                                    ...   \n",
              "Ideological Causes/Hero Worshipping                  780.0\n",
              "Illegitimate Pregnancy                               520.0\n",
              "Bankruptcy or Sudden change in Economic Status       349.0\n",
              "By Machine                                           296.0\n",
              "Not having Children (Barrenness/Impotency            156.0\n",
              "Name: Total, Length: 69, dtype: float64"
            ]
          },
          "metadata": {
            "tags": []
          },
          "execution_count": 40
        }
      ]
    },
    {
      "cell_type": "code",
      "metadata": {
        "id": "vDP1woaFlzh8"
      },
      "source": [
        "#Machine Learning"
      ],
      "execution_count": null,
      "outputs": []
    },
    {
      "cell_type": "code",
      "metadata": {
        "colab": {
          "base_uri": "https://localhost:8080/"
        },
        "id": "As4whi-hmFCn",
        "outputId": "4b80676f-8336-40e4-cbe9-9dbeb1719038"
      },
      "source": [
        "D=data.groupby('Year').Total.sum()\r\n",
        "D"
      ],
      "execution_count": null,
      "outputs": [
        {
          "output_type": "execute_result",
          "data": {
            "text/plain": [
              "Year\n",
              "2001    134536.0\n",
              "2002    140040.0\n",
              "2003    138139.0\n",
              "2004    151643.0\n",
              "2005    154017.0\n",
              "2006    157655.0\n",
              "2007    171843.0\n",
              "2008    173735.0\n",
              "2009    178834.0\n",
              "2010    192954.0\n",
              "2011    189519.0\n",
              "2012    185163.0\n",
              "Name: Total, dtype: float64"
            ]
          },
          "metadata": {
            "tags": []
          },
          "execution_count": 46
        }
      ]
    },
    {
      "cell_type": "code",
      "metadata": {
        "colab": {
          "base_uri": "https://localhost:8080/"
        },
        "id": "AIbtBREPmSxH",
        "outputId": "f26d0b33-57a8-464e-8f8f-38f73fff7b8a"
      },
      "source": [
        "x=D.index.values.reshape(-1,1)\r\n",
        "x"
      ],
      "execution_count": null,
      "outputs": [
        {
          "output_type": "execute_result",
          "data": {
            "text/plain": [
              "array([[2001],\n",
              "       [2002],\n",
              "       [2003],\n",
              "       [2004],\n",
              "       [2005],\n",
              "       [2006],\n",
              "       [2007],\n",
              "       [2008],\n",
              "       [2009],\n",
              "       [2010],\n",
              "       [2011],\n",
              "       [2012]])"
            ]
          },
          "metadata": {
            "tags": []
          },
          "execution_count": 50
        }
      ]
    },
    {
      "cell_type": "code",
      "metadata": {
        "id": "UXUb-c71nuhf"
      },
      "source": [
        "Y=D.values"
      ],
      "execution_count": null,
      "outputs": []
    },
    {
      "cell_type": "code",
      "metadata": {
        "colab": {
          "base_uri": "https://localhost:8080/",
          "height": 442
        },
        "id": "ffL6LR5ToZQu",
        "outputId": "f5bff533-f086-4baf-e7a0-7c88985239af"
      },
      "source": [
        "import seaborn as sns\r\n",
        "sns.set_style(\"dark\")\r\n",
        "plt.figure(figsize=(8,6))\r\n",
        "sns.regplot(x,y)\r\n",
        "plt.xlabel('Year')\r\n",
        "plt.ylabel(\"Total Suicide\")\r\n",
        "plt.show()"
      ],
      "execution_count": null,
      "outputs": [
        {
          "output_type": "stream",
          "text": [
            "/usr/local/lib/python3.6/dist-packages/seaborn/_decorators.py:43: FutureWarning: Pass the following variables as keyword args: x, y. From version 0.12, the only valid positional argument will be `data`, and passing other arguments without an explicit keyword will result in an error or misinterpretation.\n",
            "  FutureWarning\n"
          ],
          "name": "stderr"
        },
        {
          "output_type": "display_data",
          "data": {
            "image/png": "[encoded data removed]",
            "text/plain": [
              "<Figure size 576x432 with 1 Axes>"
            ]
          },
          "metadata": {
            "tags": []
          }
        }
      ]
    },
    {
      "cell_type": "code",
      "metadata": {
        "colab": {
          "base_uri": "https://localhost:8080/"
        },
        "id": "723PKXvKojKE",
        "outputId": "0932799c-6842-4830-e779-b4456df40e50"
      },
      "source": [
        "from sklearn.linear_model import LinearRegression\r\n",
        "reg=LinearRegression()\r\n",
        "reg.fit(x,y)"
      ],
      "execution_count": null,
      "outputs": [
        {
          "output_type": "execute_result",
          "data": {
            "text/plain": [
              "LinearRegression(copy_X=True, fit_intercept=True, n_jobs=None, normalize=False)"
            ]
          },
          "metadata": {
            "tags": []
          },
          "execution_count": 61
        }
      ]
    },
    {
      "cell_type": "code",
      "metadata": {
        "colab": {
          "base_uri": "https://localhost:8080/"
        },
        "id": "zeiAVW7rqwKM",
        "outputId": "5acb684d-18cc-416b-9b51-505b5f9fc562"
      },
      "source": [
        "reg.coef_"
      ],
      "execution_count": null,
      "outputs": [
        {
          "output_type": "execute_result",
          "data": {
            "text/plain": [
              "array([5577.65734266])"
            ]
          },
          "metadata": {
            "tags": []
          },
          "execution_count": 63
        }
      ]
    },
    {
      "cell_type": "code",
      "metadata": {
        "colab": {
          "base_uri": "https://localhost:8080/"
        },
        "id": "6FNZTjlOq2x-",
        "outputId": "0bd3fe06-aa6b-42f5-e511-4126be81195b"
      },
      "source": [
        "reg.intercept_"
      ],
      "execution_count": null,
      "outputs": [
        {
          "output_type": "execute_result",
          "data": {
            "text/plain": [
              "-11027562.958041953"
            ]
          },
          "metadata": {
            "tags": []
          },
          "execution_count": 64
        }
      ]
    },
    {
      "cell_type": "code",
      "metadata": {
        "colab": {
          "base_uri": "https://localhost:8080/"
        },
        "id": "EUltBdrrq_0p",
        "outputId": "f854ee09-5b61-43c7-b7c9-799e28872c2d"
      },
      "source": [
        "Yp=reg.predict(x)\r\n",
        "Yp"
      ],
      "execution_count": null,
      "outputs": [
        {
          "output_type": "execute_result",
          "data": {
            "text/plain": [
              "array([133329.38461539, 138907.04195804, 144484.6993007 , 150062.35664336,\n",
              "       155640.01398601, 161217.67132867, 166795.32867133, 172372.98601399,\n",
              "       177950.64335664, 183528.3006993 , 189105.95804196, 194683.61538462])"
            ]
          },
          "metadata": {
            "tags": []
          },
          "execution_count": 68
        }
      ]
    },
    {
      "cell_type": "code",
      "metadata": {
        "colab": {
          "base_uri": "https://localhost:8080/"
        },
        "id": "bz7V7RvIrVeG",
        "outputId": "d2ffdeca-15f5-4e0b-d9ca-d694473e56bd"
      },
      "source": [
        "y"
      ],
      "execution_count": null,
      "outputs": [
        {
          "output_type": "execute_result",
          "data": {
            "text/plain": [
              "array([134536., 140040., 138139., 151643., 154017., 157655., 171843.,\n",
              "       173735., 178834., 192954., 189519., 185163.])"
            ]
          },
          "metadata": {
            "tags": []
          },
          "execution_count": 69
        }
      ]
    },
    {
      "cell_type": "code",
      "metadata": {
        "colab": {
          "base_uri": "https://localhost:8080/",
          "height": 282
        },
        "id": "H_eIxlFZrey_",
        "outputId": "4b333657-6cbb-40cd-f2f7-b5d6e128605e"
      },
      "source": [
        "plt.scatter(x,y)\r\n",
        "plt.plot(x,Yp)\r\n",
        "plt.show"
      ],
      "execution_count": null,
      "outputs": [
        {
          "output_type": "execute_result",
          "data": {
            "text/plain": [
              "<function matplotlib.pyplot.show>"
            ]
          },
          "metadata": {
            "tags": []
          },
          "execution_count": 70
        },
        {
          "output_type": "display_data",
          "data": {
            "image/png": "[encoded data removed]",
            "text/plain": [
              "<Figure size 432x288 with 1 Axes>"
            ]
          },
          "metadata": {
            "tags": []
          }
        }
      ]
    },
    {
      "cell_type": "code",
      "metadata": {
        "colab": {
          "base_uri": "https://localhost:8080/"
        },
        "id": "-kOABQ6SsCke",
        "outputId": "7cbd3152-d284-4dc3-ce77-5d0182de705a"
      },
      "source": [
        "reg.score(x,y)*100"
      ],
      "execution_count": null,
      "outputs": [
        {
          "output_type": "execute_result",
          "data": {
            "text/plain": [
              "94.30607499147932"
            ]
          },
          "metadata": {
            "tags": []
          },
          "execution_count": 71
        }
      ]
    },
    {
      "cell_type": "code",
      "metadata": {
        "colab": {
          "base_uri": "https://localhost:8080/"
        },
        "id": "hLIwDYlssgJy",
        "outputId": "66fb6472-e152-4b27-b450-df882974eb18"
      },
      "source": [
        "reg.predict([[2020]])"
      ],
      "execution_count": null,
      "outputs": [
        {
          "output_type": "execute_result",
          "data": {
            "text/plain": [
              "array([239304.87412588])"
            ]
          },
          "metadata": {
            "tags": []
          },
          "execution_count": 74
        }
      ]
    },
    {
      "cell_type": "code",
      "metadata": {
        "id": "F-_pRj2Bsm7l"
      },
      "source": [
        "###Polynomial Regression"
      ],
      "execution_count": null,
      "outputs": []
    },
    {
      "cell_type": "code",
      "metadata": {
        "colab": {
          "base_uri": "https://localhost:8080/",
          "height": 402
        },
        "id": "iww1P3O0tC8l",
        "outputId": "d3621492-dade-479c-d029-840aea7dc4d8"
      },
      "source": [
        "from sklearn.preprocessing import PolynomialFeatures\r\n",
        "poly=PolynomialFeatures(degree=5)\r\n",
        "X=poly.fit_transform(x)\r\n",
        "pd.DataFrame(X)"
      ],
      "execution_count": null,
      "outputs": [
        {
          "output_type": "execute_result",
          "data": {
            "text/html": [
              "<div>\n",
              "<style scoped>\n",
              "    .dataframe tbody tr th:only-of-type {\n",
              "        vertical-align: middle;\n",
              "    }\n",
              "\n",
              "    .dataframe tbody tr th {\n",
              "        vertical-align: top;\n",
              "    }\n",
              "\n",
              "    .dataframe thead th {\n",
              "        text-align: right;\n",
              "    }\n",
              "</style>\n",
              "<table border=\"1\" class=\"dataframe\">\n",
              "  <thead>\n",
              "    <tr style=\"text-align: right;\">\n",
              "      <th></th>\n",
              "      <th>0</th>\n",
              "      <th>1</th>\n",
              "      <th>2</th>\n",
              "      <th>3</th>\n",
              "      <th>4</th>\n",
              "      <th>5</th>\n",
              "    </tr>\n",
              "  </thead>\n",
              "  <tbody>\n",
              "    <tr>\n",
              "      <th>0</th>\n",
              "      <td>1.0</td>\n",
              "      <td>2001.0</td>\n",
              "      <td>4004001.0</td>\n",
              "      <td>8.012006e+09</td>\n",
              "      <td>1.603202e+13</td>\n",
              "      <td>3.208008e+16</td>\n",
              "    </tr>\n",
              "    <tr>\n",
              "      <th>1</th>\n",
              "      <td>1.0</td>\n",
              "      <td>2002.0</td>\n",
              "      <td>4008004.0</td>\n",
              "      <td>8.024024e+09</td>\n",
              "      <td>1.606410e+13</td>\n",
              "      <td>3.216032e+16</td>\n",
              "    </tr>\n",
              "    <tr>\n",
              "      <th>2</th>\n",
              "      <td>1.0</td>\n",
              "      <td>2003.0</td>\n",
              "      <td>4012009.0</td>\n",
              "      <td>8.036054e+09</td>\n",
              "      <td>1.609622e+13</td>\n",
              "      <td>3.224072e+16</td>\n",
              "    </tr>\n",
              "    <tr>\n",
              "      <th>3</th>\n",
              "      <td>1.0</td>\n",
              "      <td>2004.0</td>\n",
              "      <td>4016016.0</td>\n",
              "      <td>8.048096e+09</td>\n",
              "      <td>1.612838e+13</td>\n",
              "      <td>3.232128e+16</td>\n",
              "    </tr>\n",
              "    <tr>\n",
              "      <th>4</th>\n",
              "      <td>1.0</td>\n",
              "      <td>2005.0</td>\n",
              "      <td>4020025.0</td>\n",
              "      <td>8.060150e+09</td>\n",
              "      <td>1.616060e+13</td>\n",
              "      <td>3.240201e+16</td>\n",
              "    </tr>\n",
              "    <tr>\n",
              "      <th>5</th>\n",
              "      <td>1.0</td>\n",
              "      <td>2006.0</td>\n",
              "      <td>4024036.0</td>\n",
              "      <td>8.072216e+09</td>\n",
              "      <td>1.619287e+13</td>\n",
              "      <td>3.248289e+16</td>\n",
              "    </tr>\n",
              "    <tr>\n",
              "      <th>6</th>\n",
              "      <td>1.0</td>\n",
              "      <td>2007.0</td>\n",
              "      <td>4028049.0</td>\n",
              "      <td>8.084294e+09</td>\n",
              "      <td>1.622518e+13</td>\n",
              "      <td>3.256393e+16</td>\n",
              "    </tr>\n",
              "    <tr>\n",
              "      <th>7</th>\n",
              "      <td>1.0</td>\n",
              "      <td>2008.0</td>\n",
              "      <td>4032064.0</td>\n",
              "      <td>8.096385e+09</td>\n",
              "      <td>1.625754e+13</td>\n",
              "      <td>3.264514e+16</td>\n",
              "    </tr>\n",
              "    <tr>\n",
              "      <th>8</th>\n",
              "      <td>1.0</td>\n",
              "      <td>2009.0</td>\n",
              "      <td>4036081.0</td>\n",
              "      <td>8.108487e+09</td>\n",
              "      <td>1.628995e+13</td>\n",
              "      <td>3.272651e+16</td>\n",
              "    </tr>\n",
              "    <tr>\n",
              "      <th>9</th>\n",
              "      <td>1.0</td>\n",
              "      <td>2010.0</td>\n",
              "      <td>4040100.0</td>\n",
              "      <td>8.120601e+09</td>\n",
              "      <td>1.632241e+13</td>\n",
              "      <td>3.280804e+16</td>\n",
              "    </tr>\n",
              "    <tr>\n",
              "      <th>10</th>\n",
              "      <td>1.0</td>\n",
              "      <td>2011.0</td>\n",
              "      <td>4044121.0</td>\n",
              "      <td>8.132727e+09</td>\n",
              "      <td>1.635491e+13</td>\n",
              "      <td>3.288973e+16</td>\n",
              "    </tr>\n",
              "    <tr>\n",
              "      <th>11</th>\n",
              "      <td>1.0</td>\n",
              "      <td>2012.0</td>\n",
              "      <td>4048144.0</td>\n",
              "      <td>8.144866e+09</td>\n",
              "      <td>1.638747e+13</td>\n",
              "      <td>3.297159e+16</td>\n",
              "    </tr>\n",
              "  </tbody>\n",
              "</table>\n",
              "</div>"
            ],
            "text/plain": [
              "      0       1          2             3             4             5\n",
              "0   1.0  2001.0  4004001.0  8.012006e+09  1.603202e+13  3.208008e+16\n",
              "1   1.0  2002.0  4008004.0  8.024024e+09  1.606410e+13  3.216032e+16\n",
              "2   1.0  2003.0  4012009.0  8.036054e+09  1.609622e+13  3.224072e+16\n",
              "3   1.0  2004.0  4016016.0  8.048096e+09  1.612838e+13  3.232128e+16\n",
              "4   1.0  2005.0  4020025.0  8.060150e+09  1.616060e+13  3.240201e+16\n",
              "5   1.0  2006.0  4024036.0  8.072216e+09  1.619287e+13  3.248289e+16\n",
              "6   1.0  2007.0  4028049.0  8.084294e+09  1.622518e+13  3.256393e+16\n",
              "7   1.0  2008.0  4032064.0  8.096385e+09  1.625754e+13  3.264514e+16\n",
              "8   1.0  2009.0  4036081.0  8.108487e+09  1.628995e+13  3.272651e+16\n",
              "9   1.0  2010.0  4040100.0  8.120601e+09  1.632241e+13  3.280804e+16\n",
              "10  1.0  2011.0  4044121.0  8.132727e+09  1.635491e+13  3.288973e+16\n",
              "11  1.0  2012.0  4048144.0  8.144866e+09  1.638747e+13  3.297159e+16"
            ]
          },
          "metadata": {
            "tags": []
          },
          "execution_count": 77
        }
      ]
    },
    {
      "cell_type": "code",
      "metadata": {
        "colab": {
          "base_uri": "https://localhost:8080/"
        },
        "id": "PnN7DRxzuMo8",
        "outputId": "08de8704-620d-4a9c-c244-90919cf0f864"
      },
      "source": [
        "from sklearn.linear_model import LinearRegression\r\n",
        "reg=LinearRegression()\r\n",
        "reg.fit(X,y)"
      ],
      "execution_count": null,
      "outputs": [
        {
          "output_type": "execute_result",
          "data": {
            "text/plain": [
              "LinearRegression(copy_X=True, fit_intercept=True, n_jobs=None, normalize=False)"
            ]
          },
          "metadata": {
            "tags": []
          },
          "execution_count": 78
        }
      ]
    },
    {
      "cell_type": "code",
      "metadata": {
        "colab": {
          "base_uri": "https://localhost:8080/"
        },
        "id": "lkGOAOcNu7Fa",
        "outputId": "7505e254-35e0-45dd-a5ca-938217c0b8eb"
      },
      "source": [
        "reg.coef_"
      ],
      "execution_count": null,
      "outputs": [
        {
          "output_type": "execute_result",
          "data": {
            "text/plain": [
              "array([ 0.00000000e+00, -3.79210584e-02, -1.00981373e-01, -1.01309412e+02,\n",
              "        7.57521961e-02, -1.51045045e-05])"
            ]
          },
          "metadata": {
            "tags": []
          },
          "execution_count": 79
        }
      ]
    },
    {
      "cell_type": "code",
      "metadata": {
        "colab": {
          "base_uri": "https://localhost:8080/"
        },
        "id": "vtInAuTFu_0G",
        "outputId": "1fa1029f-26c0-4605-a07a-5ccce1f702e3"
      },
      "source": [
        "reg.intercept_"
      ],
      "execution_count": null,
      "outputs": [
        {
          "output_type": "execute_result",
          "data": {
            "text/plain": [
              "81784848843.31445"
            ]
          },
          "metadata": {
            "tags": []
          },
          "execution_count": 80
        }
      ]
    },
    {
      "cell_type": "code",
      "metadata": {
        "colab": {
          "base_uri": "https://localhost:8080/"
        },
        "id": "3XbJsOyzvFXV",
        "outputId": "ae5db22a-ed0e-4d76-f24b-245f27ca868e"
      },
      "source": [
        "Yp=reg.predict(X)\r\n",
        "Yp"
      ],
      "execution_count": null,
      "outputs": [
        {
          "output_type": "execute_result",
          "data": {
            "text/plain": [
              "array([136044.15649414, 137413.14672852, 141256.24108887, 146972.08447266,\n",
              "       153957.50817871, 161607.53015137, 169315.35192871, 176472.35742188,\n",
              "       182468.11022949, 186690.3527832 , 188525.00390625, 187356.1583252 ])"
            ]
          },
          "metadata": {
            "tags": []
          },
          "execution_count": 84
        }
      ]
    },
    {
      "cell_type": "code",
      "metadata": {
        "colab": {
          "base_uri": "https://localhost:8080/"
        },
        "id": "Y1_okAi6vP1Z",
        "outputId": "b906dae2-43aa-45e0-a913-1cb0d7a8f4b8"
      },
      "source": [
        "y"
      ],
      "execution_count": null,
      "outputs": [
        {
          "output_type": "execute_result",
          "data": {
            "text/plain": [
              "array([134536., 140040., 138139., 151643., 154017., 157655., 171843.,\n",
              "       173735., 178834., 192954., 189519., 185163.])"
            ]
          },
          "metadata": {
            "tags": []
          },
          "execution_count": 83
        }
      ]
    },
    {
      "cell_type": "code",
      "metadata": {
        "colab": {
          "base_uri": "https://localhost:8080/",
          "height": 265
        },
        "id": "tlo8eT_MvUwm",
        "outputId": "f8c454ff-e23c-4725-a003-1024b4dec1a6"
      },
      "source": [
        "plt.scatter(x,y)\r\n",
        "plt.plot(x,Yp)\r\n",
        "plt.show()"
      ],
      "execution_count": null,
      "outputs": [
        {
          "output_type": "display_data",
          "data": {
            "image/png": "[encoded data removed]",
            "text/plain": [
              "<Figure size 432x288 with 1 Axes>"
            ]
          },
          "metadata": {
            "tags": []
          }
        }
      ]
    },
    {
      "cell_type": "code",
      "metadata": {
        "colab": {
          "base_uri": "https://localhost:8080/"
        },
        "id": "jFXWcW_Vv7Em",
        "outputId": "78af025f-d201-46c3-8c03-f0b888f175f8"
      },
      "source": [
        "reg.score(X,y)*100"
      ],
      "execution_count": null,
      "outputs": [
        {
          "output_type": "execute_result",
          "data": {
            "text/plain": [
              "97.2769640341796"
            ]
          },
          "metadata": {
            "tags": []
          },
          "execution_count": 86
        }
      ]
    },
    {
      "cell_type": "code",
      "metadata": {
        "colab": {
          "base_uri": "https://localhost:8080/"
        },
        "id": "fWYY2wg6wKyN",
        "outputId": "7fd293aa-2a47-46ef-9fa4-57f00bfb1341"
      },
      "source": [
        "val=poly.transform([[2025]])\r\n",
        "val"
      ],
      "execution_count": null,
      "outputs": [
        {
          "output_type": "execute_result",
          "data": {
            "text/plain": [
              "array([[1.00000000e+00, 2.02500000e+03, 4.10062500e+06, 8.30376562e+09,\n",
              "        1.68151254e+13, 3.40506289e+16]])"
            ]
          },
          "metadata": {
            "tags": []
          },
          "execution_count": 91
        }
      ]
    },
    {
      "cell_type": "code",
      "metadata": {
        "colab": {
          "base_uri": "https://localhost:8080/"
        },
        "id": "G3IskWSQw93A",
        "outputId": "38108d05-ecc2-44eb-94ec-d679c40db6e4"
      },
      "source": [
        "reg.predict(val)"
      ],
      "execution_count": null,
      "outputs": [
        {
          "output_type": "execute_result",
          "data": {
            "text/plain": [
              "array([-384727.35290527])"
            ]
          },
          "metadata": {
            "tags": []
          },
          "execution_count": 92
        }
      ]
    },
    {
      "cell_type": "code",
      "metadata": {
        "id": "dSI10K1FxOrd"
      },
      "source": [
        ""
      ],
      "execution_count": null,
      "outputs": []
    }
  ]
}